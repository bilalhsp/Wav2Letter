{
 "cells": [
  {
   "attachments": {},
   "cell_type": "markdown",
   "metadata": {},
   "source": [
    "### Download and prepare LibriSpeech dataset"
   ]
  },
  {
   "attachments": {},
   "cell_type": "markdown",
   "metadata": {},
   "source": [
    "This notebook prepares LibriSpeech dataset for training wav2letter model, \n",
    "- Download data by creating torchaudio dataset.\n",
    "- Using prepareLibriSpeech utility, create manifest for training, validation and test sets (to be used by the daatset object).\n",
    "- After successful completion of this demo, data is ready to be used for training the network."
   ]
  },
  {
   "cell_type": "code",
   "execution_count": 1,
   "metadata": {},
   "outputs": [],
   "source": [
    "import os\n",
    "import shutil\n",
    "import torchaudio\n",
    "from wav2letter.prepareLibriSpeech import *\n",
    "from wav2letter import config "
   ]
  },
  {
   "attachments": {},
   "cell_type": "markdown",
   "metadata": {},
   "source": [
    "### Loading the config file...\n",
    "This file carries important paths and urls to download and prepare data:\n",
    "- $data\\_dir$: path to the root directory of data\n",
    "- $training\\_url$: list of urls from LibriSpeech dataset to be used for training (e.g. train-clean-100, train-clean-360 etc.)\n",
    "- $val\\_url$: list of urls from LibriSpeech dataset to be used for validation (e.g. dev-clean)\n",
    "- $test\\_url$: list of urls from LibriSpeech dataset to be used for testing (e.g. test-clean).  \n",
    "##### Manifests files created:\n",
    "- $train\\_manifest$: carries detailed information of directory structure and files for train dataset.\n",
    "- $val\\_manifest$: carries detailed information of directory structure and files for val dataset.\n",
    "- $test\\_manifest$: carries detailed information of directory structure and files for test dataset."
   ]
  },
  {
   "cell_type": "code",
   "execution_count": null,
   "metadata": {},
   "outputs": [],
   "source": [
    "data_dir = config['data_dir']\n",
    "\n",
    "# Create and empty parent directory\n",
    "if config['force_redownload']:\n",
    "    # remove an existing tree of folders\n",
    "    if os.path.exists(data_dir):\n",
    "        shutil.rmtree()\n",
    "    # create parent folder for the datadirectory.\n",
    "    os.makedirs(data_dir)\n",
    "    print(\"Successfully created an empty parent directory.\")"
   ]
  },
  {
   "attachments": {},
   "cell_type": "markdown",
   "metadata": {},
   "source": [
    "#### Downloading data...\n",
    "- Make sure path specified by $data\\_dir$ in $config\\_rf.yaml$ is a valid path (where LibriSpeech data is to be downloaded or stored)."
   ]
  },
  {
   "cell_type": "code",
   "execution_count": 4,
   "metadata": {},
   "outputs": [
    {
     "data": {
      "application/vnd.jupyter.widget-view+json": {
       "model_id": "03ec575271d54b55815c21e88cb24274",
       "version_major": 2,
       "version_minor": 0
      },
      "text/plain": [
       "  0%|          | 0.00/5.95G [00:00<?, ?B/s]"
      ]
     },
     "metadata": {},
     "output_type": "display_data"
    },
    {
     "data": {
      "application/vnd.jupyter.widget-view+json": {
       "model_id": "0ce1e403d8ff4b6d9a88d66dac6ac7ae",
       "version_major": 2,
       "version_minor": 0
      },
      "text/plain": [
       "  0%|          | 0.00/21.5G [00:00<?, ?B/s]"
      ]
     },
     "metadata": {},
     "output_type": "display_data"
    },
    {
     "data": {
      "application/vnd.jupyter.widget-view+json": {
       "model_id": "a2c3f662b15f4197ab40cdac295ca244",
       "version_major": 2,
       "version_minor": 0
      },
      "text/plain": [
       "  0%|          | 0.00/28.5G [00:00<?, ?B/s]"
      ]
     },
     "metadata": {},
     "output_type": "display_data"
    },
    {
     "data": {
      "application/vnd.jupyter.widget-view+json": {
       "model_id": "3e784aa66cd04cf8898457e676ccbbff",
       "version_major": 2,
       "version_minor": 0
      },
      "text/plain": [
       "  0%|          | 0.00/322M [00:00<?, ?B/s]"
      ]
     },
     "metadata": {},
     "output_type": "display_data"
    },
    {
     "data": {
      "application/vnd.jupyter.widget-view+json": {
       "model_id": "5bd879b534af459188f8a5e071d53fed",
       "version_major": 2,
       "version_minor": 0
      },
      "text/plain": [
       "  0%|          | 0.00/331M [00:00<?, ?B/s]"
      ]
     },
     "metadata": {},
     "output_type": "display_data"
    }
   ],
   "source": [
    "for url in config['training_url']:\n",
    "    data = torchaudio.datasets.LIBRISPEECH(config['data_dir'], url=url, download=True)\n",
    "for url in config['val_url']:\n",
    "    data = torchaudio.datasets.LIBRISPEECH(config['data_dir'], url=url, download=True)\n",
    "for url in config['test_url']:\n",
    "    data = torchaudio.datasets.LIBRISPEECH(config['data_dir'], url=url, download=True)\n"
   ]
  },
  {
   "attachments": {},
   "cell_type": "markdown",
   "metadata": {},
   "source": [
    "#### Setting up dataset\n",
    "Creates the manifest files that are used by $wav2letter.datasets.LibriSpeechDataset$ object"
   ]
  },
  {
   "cell_type": "code",
   "execution_count": 5,
   "metadata": {},
   "outputs": [
    {
     "name": "stdout",
     "output_type": "stream",
     "text": [
      "Preparing training manifest...!\n",
      "Preparing val manifest...!\n",
      "Preparing test manifest...!\n",
      "Done...!\n"
     ]
    }
   ],
   "source": [
    "prepare_dataset(config, train=True, val=True, test=True)"
   ]
  },
  {
   "cell_type": "code",
   "execution_count": null,
   "metadata": {},
   "outputs": [],
   "source": []
  }
 ],
 "metadata": {
  "kernelspec": {
   "display_name": "Python 3",
   "language": "python",
   "name": "python3"
  },
  "language_info": {
   "codemirror_mode": {
    "name": "ipython",
    "version": 3
   },
   "file_extension": ".py",
   "mimetype": "text/x-python",
   "name": "python",
   "nbconvert_exporter": "python",
   "pygments_lexer": "ipython3",
   "version": "3.8.5"
  },
  "vscode": {
   "interpreter": {
    "hash": "bf270bfe6f5ea047577d4529f0d59f5a50c52540347ccec7f73949689bdd9afa"
   }
  }
 },
 "nbformat": 4,
 "nbformat_minor": 2
}
